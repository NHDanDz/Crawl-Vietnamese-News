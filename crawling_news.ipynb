{
 "cells": [
  {
   "cell_type": "code",
   "execution_count": null,
   "metadata": {},
   "outputs": [],
   "source": [
    "!pip install newspaper3k"
   ]
  },
  {
   "cell_type": "code",
   "execution_count": 2,
   "metadata": {},
   "outputs": [
    {
     "name": "stdout",
     "output_type": "stream",
     "text": [
      "  % Total    % Received % Xferd  Average Speed   Time    Time     Time  Current\n",
      "                                 Dload  Upload   Total   Spent    Left  Speed\n",
      "100   657  100   657    0     0    396      0  0:00:01  0:00:01 --:--:--   396\n",
      "Downloading \"brown\"\n",
      "[nltk_data] Downloading package brown to /home/nhdandz/nltk_data...\n",
      "[nltk_data]   Package brown is already up-to-date!\n",
      "Downloading \"punkt\"\n",
      "[nltk_data] Downloading package punkt to /home/nhdandz/nltk_data...\n",
      "[nltk_data]   Package punkt is already up-to-date!\n",
      "Downloading \"maxent_treebank_pos_tagger\"\n",
      "[nltk_data] Downloading package maxent_treebank_pos_tagger to\n",
      "[nltk_data]     /home/nhdandz/nltk_data...\n",
      "[nltk_data]   Package maxent_treebank_pos_tagger is already up-to-\n",
      "[nltk_data]       date!\n",
      "Downloading \"movie_reviews\"\n",
      "[nltk_data] Downloading package movie_reviews to\n",
      "[nltk_data]     /home/nhdandz/nltk_data...\n",
      "[nltk_data]   Package movie_reviews is already up-to-date!\n",
      "Downloading \"wordnet\"\n",
      "[nltk_data] Downloading package wordnet to /home/nhdandz/nltk_data...\n",
      "[nltk_data]   Package wordnet is already up-to-date!\n",
      "Downloading \"stopwords\"\n",
      "[nltk_data] Downloading package stopwords to\n",
      "[nltk_data]     /home/nhdandz/nltk_data...\n",
      "[nltk_data]   Package stopwords is already up-to-date!\n",
      "Finished.\n"
     ]
    }
   ],
   "source": [
    "!curl https://raw.githubusercontent.com/codelucas/newspaper/master/download_corpora.py | python"
   ]
  },
  {
   "cell_type": "code",
   "execution_count": 1,
   "metadata": {},
   "outputs": [],
   "source": [
    "from newspaper import Article\n",
    "from bs4 import BeautifulSoup\n",
    "import urllib.request"
   ]
  },
  {
   "cell_type": "code",
   "execution_count": 157,
   "metadata": {},
   "outputs": [],
   "source": [
    "def crawl_by_url(url, title):\n",
    "    article = Article(url, language='vi')\n",
    "    article.download()\n",
    "    article.parse()\n",
    "    contents = str(article.text).replace(\"\\n\",\"\")\n",
    "    article.nlp()\n",
    "    # replace\n",
    "    char_to_replace = {':': '',\n",
    "                       '/': '',\n",
    "                       '\\\\': '',\n",
    "                      '*': '',\n",
    "                      '?': '',\n",
    "                      '\"': '',\n",
    "                      '<': '',\n",
    "                      '>': '',\n",
    "                      '|': ''}\n",
    "    for key, value in char_to_replace.items():\n",
    "        # Replace key character with value character in string\n",
    "        title = title.replace(key, value)\n",
    "        \n",
    "    # write txt\n",
    "    # https://vnexpress.net\n",
    "    if(url.find('https://vnexpress.net/') != -1):\n",
    "        output = \"data/text/vnexpress/\" + title  + \".txt\"\n",
    "        f = open(output, \"w+\", encoding='utf-8')\n",
    "        f.write(str(url)+\"\\n\")\n",
    "        f.write(title+\"\\n\")\n",
    "        f.write(contents)\n",
    "        f.close()\n",
    "    elif(url.find('https://thanhnien.vn/') != -1):\n",
    "        output = \"data/text/thanhnien/\" + title  + \".txt\"\n",
    "        f = open(output, \"w+\", encoding='utf-8')\n",
    "        f.write(str(url)+\"\\n\")\n",
    "        f.write(title+\"\\n\")\n",
    "        f.write(contents)\n",
    "    elif(url.find('https://vietnamnet.vn/') != -1):\n",
    "        output = \"data/text/vietnamnet/\" + title  + \".txt\"\n",
    "        f = open(output, \"w+\", encoding='utf-8')\n",
    "        f.write(str(url)+\"\\n\")\n",
    "        f.write(title+\"\\n\")\n",
    "        f.write(contents)"
   ]
  },
  {
   "cell_type": "code",
   "execution_count": 158,
   "metadata": {},
   "outputs": [],
   "source": [
    "# VNEXPRESS\n",
    "def get_links_in_page_vnexpress(url):\n",
    "    page = urllib.request.urlopen(url)\n",
    "    soup = BeautifulSoup(page, 'html.parser')\n",
    "    # <section>\n",
    "    sections = soup.find_all('section', attrs={'class':'section section_container mt15'})\n",
    "    # <h3>\n",
    "    #print(sections)\n",
    "    h3_all = []\n",
    "    for section in sections:\n",
    "        h3_all.extend(section.find_all('h3', attrs={'class':'title-news'}))\n",
    "        #print(section)\n",
    "        #print(\"\\n \\n \\n\")\n",
    "    # <a>\n",
    "    a_all = []\n",
    "    results = [[]] \n",
    "    for h3 in h3_all:\n",
    "        a_all.extend(h3.find_all('a', attrs={'class':''}))\n",
    " \n",
    "    for a in a_all:\n",
    "        print(a)\n",
    "        title = a.get('title')\n",
    "        link = a.get('href')\n",
    "        print('Title: {} - Link: {}'.format(title, link))\n",
    "        results.append([title,link])\n",
    "    return results"
   ]
  },
  {
   "cell_type": "code",
   "execution_count": 159,
   "metadata": {
    "scrolled": true
   },
   "outputs": [
    {
     "name": "stdout",
     "output_type": "stream",
     "text": [
      "<a data-medium=\"Item-49\" data-thumb=\"1\" href=\"https://vnexpress.net/nhiem-vu-dac-biet-100-ngay-cua-binh-doan-truong-son-4814647.html\" title=\"'Nhiệm vụ đặc biệt 100 ngày' của Binh đoàn Trường Sơn\">'Nhiệm vụ đặc biệt 100 ngày' của Binh đoàn Trường Sơn</a>\n",
      "Title: 'Nhiệm vụ đặc biệt 100 ngày' của Binh đoàn Trường Sơn - Link: https://vnexpress.net/nhiem-vu-dac-biet-100-ngay-cua-binh-doan-truong-son-4814647.html\n",
      "<a data-medium=\"Item-50\" data-thumb=\"1\" href=\"https://vnexpress.net/viet-nam-cung-asean-doi-moi-de-bay-cao-4817121.html\" title=\"Việt Nam cùng ASEAN 'đổi mới để bay cao'\">Việt Nam cùng ASEAN 'đổi mới để bay cao'</a>\n",
      "Title: Việt Nam cùng ASEAN 'đổi mới để bay cao' - Link: https://vnexpress.net/viet-nam-cung-asean-doi-moi-de-bay-cao-4817121.html\n",
      "<a data-medium=\"Item-51\" data-thumb=\"1\" href=\"https://vnexpress.net/xit-hoi-cay-o-da-lat-4816913.html\" title=\"Hành khách tố cáo bị tài xế taxi xịt hơi cay\">Hành khách tố cáo bị tài xế taxi xịt hơi cay</a>\n",
      "Title: Hành khách tố cáo bị tài xế taxi xịt hơi cay - Link: https://vnexpress.net/xit-hoi-cay-o-da-lat-4816913.html\n",
      "<a data-medium=\"Item-52\" data-thumb=\"1\" href=\"https://vnexpress.net/ca-mau-khanh-thanh-tuong-dai-chuyen-tau-tap-ket-ra-bac-4816909.html\" title=\"Cà Mau khánh thành tượng đài chuyến tàu tập kết ra Bắc\">Cà Mau khánh thành tượng đài chuyến tàu tập kết ra Bắc</a>\n",
      "Title: Cà Mau khánh thành tượng đài chuyến tàu tập kết ra Bắc - Link: https://vnexpress.net/ca-mau-khanh-thanh-tuong-dai-chuyen-tau-tap-ket-ra-bac-4816909.html\n",
      "<a data-medium=\"Item-53\" data-thumb=\"1\" href=\"https://vnexpress.net/chu-tich-tinh-quang-tri-lam-thu-truong-nong-nghiep-va-phat-trien-nong-thon-4816892.html\" title=\"Chủ tịch tỉnh Quảng Trị làm Thứ trưởng Nông nghiệp và Phát triển nông thôn\">Chủ tịch tỉnh Quảng Trị làm Thứ trưởng Nông nghiệp và Phát triển nông thôn</a>\n",
      "Title: Chủ tịch tỉnh Quảng Trị làm Thứ trưởng Nông nghiệp và Phát triển nông thôn - Link: https://vnexpress.net/chu-tich-tinh-quang-tri-lam-thu-truong-nong-nghiep-va-phat-trien-nong-thon-4816892.html\n",
      "<a data-medium=\"Item-54\" data-thumb=\"1\" href=\"https://vnexpress.net/thu-tuong-lam-truong-ban-tinh-gon-bo-may-cua-chinh-phu-4816894.html\" title=\"Thủ tướng làm Trưởng ban tinh gọn bộ máy của Chính phủ\">Thủ tướng làm Trưởng ban tinh gọn bộ máy của Chính phủ</a>\n",
      "Title: Thủ tướng làm Trưởng ban tinh gọn bộ máy của Chính phủ - Link: https://vnexpress.net/thu-tuong-lam-truong-ban-tinh-gon-bo-may-cua-chinh-phu-4816894.html\n",
      "<a data-medium=\"Item-55\" data-thumb=\"1\" href=\"https://vnexpress.net/lao-dong-di-duc-can-can-trong-voi-cac-loi-tu-van-luong-cao-4816888.html\" title=\"'Lao động đi Đức cần cẩn trọng với các lời tư vấn lương cao'\">'Lao động đi Đức cần cẩn trọng với các lời tư vấn lương cao'</a>\n",
      "Title: 'Lao động đi Đức cần cẩn trọng với các lời tư vấn lương cao' - Link: https://vnexpress.net/lao-dong-di-duc-can-can-trong-voi-cac-loi-tu-van-luong-cao-4816888.html\n",
      "<a data-medium=\"Item-56\" data-thumb=\"1\" href=\"https://vnexpress.net/14-quan-huyen-o-tp-hcm-bi-cat-nuoc-nuoc-yeu-4816882.html\" title=\"14 quận huyện ở TP HCM bị cắt nước, nước yếu\">14 quận huyện ở TP HCM bị cắt nước, nước yếu</a>\n",
      "Title: 14 quận huyện ở TP HCM bị cắt nước, nước yếu - Link: https://vnexpress.net/14-quan-huyen-o-tp-hcm-bi-cat-nuoc-nuoc-yeu-4816882.html\n",
      "<a data-medium=\"Item-57\" data-thumb=\"1\" href=\"https://vnexpress.net/7-nguoi-ngoi-an-toi-tren-lan-dung-khan-cap-cao-toc-4816847.html\" title=\"7 người ngồi ăn tối trên làn dừng khẩn cấp cao tốc\">7 người ngồi ăn tối trên làn dừng khẩn cấp cao tốc</a>\n",
      "Title: 7 người ngồi ăn tối trên làn dừng khẩn cấp cao tốc - Link: https://vnexpress.net/7-nguoi-ngoi-an-toi-tren-lan-dung-khan-cap-cao-toc-4816847.html\n",
      "<a data-medium=\"Item-58\" data-thumb=\"1\" href=\"https://vnexpress.net/nguoi-dan-giai-cuu-dan-ca-heo-mac-can-4816843.html\" title=\"Người dân giải cứu đàn cá heo mắc cạn\">Người dân giải cứu đàn cá heo mắc cạn</a>\n",
      "Title: Người dân giải cứu đàn cá heo mắc cạn - Link: https://vnexpress.net/nguoi-dan-giai-cuu-dan-ca-heo-mac-can-4816843.html\n",
      "<a data-medium=\"Item-59\" data-thumb=\"1\" href=\"https://vnexpress.net/sieu-bao-manyi-gan-bien-dong-4816716.html\" title=\"Siêu bão Manyi gần Biển Đông\">Siêu bão Manyi gần Biển Đông</a>\n",
      "Title: Siêu bão Manyi gần Biển Đông - Link: https://vnexpress.net/sieu-bao-manyi-gan-bien-dong-4816716.html\n",
      "<a data-medium=\"Item-60\" data-thumb=\"1\" href=\"https://vnexpress.net/pho-chu-tich-quang-tri-con-nguoi-la-diem-nghen-cua-the-che-4813251.html\" title=\"Phó chủ tịch Quảng Trị: 'Con người là điểm nghẽn của thể chế'\">Phó chủ tịch Quảng Trị: 'Con người là điểm nghẽn của thể chế'</a>\n",
      "Title: Phó chủ tịch Quảng Trị: 'Con người là điểm nghẽn của thể chế' - Link: https://vnexpress.net/pho-chu-tich-quang-tri-con-nguoi-la-diem-nghen-cua-the-che-4813251.html\n",
      "<a data-medium=\"Item-61\" data-thumb=\"1\" href=\"https://vnexpress.net/qua-trinh-xay-toa-thanh-tay-ninh-gan-100-nam-truoc-4816661.html\" title=\"Quá trình xây Tòa thánh Tây Ninh gần 100 năm trước\">Quá trình xây Tòa thánh Tây Ninh gần 100 năm trước</a>\n",
      "Title: Quá trình xây Tòa thánh Tây Ninh gần 100 năm trước - Link: https://vnexpress.net/qua-trinh-xay-toa-thanh-tay-ninh-gan-100-nam-truoc-4816661.html\n",
      "<a data-medium=\"Item-62\" data-thumb=\"1\" href=\"https://vnexpress.net/cho-tre-em-tren-oto-khong-co-thiet-bi-an-toan-co-the-bi-phat-1-trieu-dong-4816639.html\" title=\"Chở trẻ em trên ôtô không có thiết bị an toàn có thể bị phạt 1 triệu đồng\">Chở trẻ em trên ôtô không có thiết bị an toàn có thể bị phạt 1 triệu đồng</a>\n",
      "Title: Chở trẻ em trên ôtô không có thiết bị an toàn có thể bị phạt 1 triệu đồng - Link: https://vnexpress.net/cho-tre-em-tren-oto-khong-co-thiet-bi-an-toan-co-the-bi-phat-1-trieu-dong-4816639.html\n",
      "<a data-medium=\"Item-63\" data-thumb=\"1\" href=\"https://vnexpress.net/25-ca-nhan-tieu-bieu-hoc-tap-va-lam-theo-chu-tich-ho-chi-minh-duoc-tuyen-duong-4816659.html\" title=\"25 cá nhân tiêu biểu học tập và làm theo Chủ tịch Hồ Chí Minh được tuyên dương\">25 cá nhân tiêu biểu học tập và làm theo Chủ tịch Hồ Chí Minh được tuyên dương</a>\n",
      "Title: 25 cá nhân tiêu biểu học tập và làm theo Chủ tịch Hồ Chí Minh được tuyên dương - Link: https://vnexpress.net/25-ca-nhan-tieu-bieu-hoc-tap-va-lam-theo-chu-tich-ho-chi-minh-duoc-tuyen-duong-4816659.html\n",
      "<a data-medium=\"Item-64\" data-thumb=\"1\" href=\"https://vnexpress.net/ho-chua-nuoc-hon-1-400-ty-dong-bo-khong-suot-8-nam-4815892.html\" title=\"Hồ chứa nước hơn 1.400 tỷ đồng bỏ không suốt 8 năm\">Hồ chứa nước hơn 1.400 tỷ đồng bỏ không suốt 8 năm</a>\n",
      "Title: Hồ chứa nước hơn 1.400 tỷ đồng bỏ không suốt 8 năm - Link: https://vnexpress.net/ho-chua-nuoc-hon-1-400-ty-dong-bo-khong-suot-8-nam-4815892.html\n",
      "<a data-medium=\"Item-65\" data-thumb=\"1\" href=\"https://vnexpress.net/hai-diem-truong-o-gia-lai-duoc-xay-moi-4816779.html\" title=\"Hai điểm trường ở Gia Lai được xây mới\">Hai điểm trường ở Gia Lai được xây mới</a>\n",
      "Title: Hai điểm trường ở Gia Lai được xây mới - Link: https://vnexpress.net/hai-diem-truong-o-gia-lai-duoc-xay-moi-4816779.html\n",
      "<a data-medium=\"Item-66\" data-thumb=\"1\" href=\"https://vnexpress.net/bo-truong-huynh-thanh-dat-kinh-te-xanh-gop-phan-cho-muc-tieu-gdp-tren-10-4816616-tong-thuat.html\" title=\"Bộ trưởng Huỳnh Thành Đạt: Kinh tế xanh góp phần cho mục tiêu GDP trên 10%\">Bộ trưởng Huỳnh Thành Đạt: Kinh tế xanh góp phần cho mục tiêu GDP trên 10%</a>\n",
      "Title: Bộ trưởng Huỳnh Thành Đạt: Kinh tế xanh góp phần cho mục tiêu GDP trên 10% - Link: https://vnexpress.net/bo-truong-huynh-thanh-dat-kinh-te-xanh-gop-phan-cho-muc-tieu-gdp-tren-10-4816616-tong-thuat.html\n",
      "<a data-medium=\"Item-67\" data-thumb=\"1\" href=\"https://vnexpress.net/oto-gay-tai-nan-lien-hoan-o-binh-duong-4816916.html\" title=\"Ôtô gây tai nạn liên hoàn ở Bình Dương\">Ôtô gây tai nạn liên hoàn ở Bình Dương</a>\n",
      "Title: Ôtô gây tai nạn liên hoàn ở Bình Dương - Link: https://vnexpress.net/oto-gay-tai-nan-lien-hoan-o-binh-duong-4816916.html\n",
      "<a data-medium=\"Item-68\" data-thumb=\"1\" href=\"https://vnexpress.net/no-binh-gas-mot-nguoi-bi-thuong-nang-4816664.html\" title=\"Nổ bình gas, một người bị thương nặng\">Nổ bình gas, một người bị thương nặng</a>\n",
      "Title: Nổ bình gas, một người bị thương nặng - Link: https://vnexpress.net/no-binh-gas-mot-nguoi-bi-thuong-nang-4816664.html\n",
      "<a data-medium=\"Item-69\" data-thumb=\"1\" href=\"https://vnexpress.net/xuong-in-bao-bi-o-ha-noi-chay-ngun-ngut-4816623.html\" title=\"Xưởng in bao bì ở Hà Nội cháy ngùn ngụt\">Xưởng in bao bì ở Hà Nội cháy ngùn ngụt</a>\n",
      "Title: Xưởng in bao bì ở Hà Nội cháy ngùn ngụt - Link: https://vnexpress.net/xuong-in-bao-bi-o-ha-noi-chay-ngun-ngut-4816623.html\n",
      "<a data-medium=\"Item-70\" data-thumb=\"1\" href=\"https://vnexpress.net/ong-nguyen-xuan-ky-bui-van-cuong-bi-canh-cao-4816606.html\" title=\"Ông Nguyễn Xuân Ký, Bùi Văn Cường bị cảnh cáo\">Ông Nguyễn Xuân Ký, Bùi Văn Cường bị cảnh cáo</a>\n",
      "Title: Ông Nguyễn Xuân Ký, Bùi Văn Cường bị cảnh cáo - Link: https://vnexpress.net/ong-nguyen-xuan-ky-bui-van-cuong-bi-canh-cao-4816606.html\n",
      "<a data-medium=\"Item-71\" data-thumb=\"1\" href=\"https://vnexpress.net/xe-cho-benh-nhan-boc-chay-truoc-phong-cap-cuu-4816526.html\" title=\"Xe chở bệnh nhân bốc cháy trước phòng cấp cứu\">Xe chở bệnh nhân bốc cháy trước phòng cấp cứu</a>\n",
      "Title: Xe chở bệnh nhân bốc cháy trước phòng cấp cứu - Link: https://vnexpress.net/xe-cho-benh-nhan-boc-chay-truoc-phong-cap-cuu-4816526.html\n",
      "<a data-medium=\"Item-72\" data-thumb=\"1\" href=\"https://vnexpress.net/de-xuat-kham-chua-benh-tai-nha-duoc-thanh-toan-bao-hiem-y-te-4816415.html\" title=\"Đề xuất khám chữa bệnh tại nhà được thanh toán bảo hiểm y tế\">Đề xuất khám chữa bệnh tại nhà được thanh toán bảo hiểm y tế</a>\n",
      "Title: Đề xuất khám chữa bệnh tại nhà được thanh toán bảo hiểm y tế - Link: https://vnexpress.net/de-xuat-kham-chua-benh-tai-nha-duoc-thanh-toan-bao-hiem-y-te-4816415.html\n",
      "<a data-medium=\"Item-73\" data-thumb=\"1\" href=\"https://vnexpress.net/acv-bo-tri-du-von-lam-duong-bang-thu-2-san-bay-long-thanh-4816472.html\" title=\"ACV bố trí đủ vốn làm đường băng thứ 2 sân bay Long Thành\">ACV bố trí đủ vốn làm đường băng thứ 2 sân bay Long Thành</a>\n",
      "Title: ACV bố trí đủ vốn làm đường băng thứ 2 sân bay Long Thành - Link: https://vnexpress.net/acv-bo-tri-du-von-lam-duong-bang-thu-2-san-bay-long-thanh-4816472.html\n",
      "<a data-medium=\"Item-74\" data-thumb=\"1\" href=\"https://vnexpress.net/thong-diep-ve-ky-nguyen-moi-cua-tong-bi-thu-la-loi-hieu-trieu-4816464.html\" title=\"'Thông điệp về kỷ nguyên mới của Tổng Bí thư là lời hiệu triệu'\">'Thông điệp về kỷ nguyên mới của Tổng Bí thư là lời hiệu triệu'</a>\n",
      "Title: 'Thông điệp về kỷ nguyên mới của Tổng Bí thư là lời hiệu triệu' - Link: https://vnexpress.net/thong-diep-ve-ky-nguyen-moi-cua-tong-bi-thu-la-loi-hieu-trieu-4816464.html\n",
      "<a data-medium=\"Item-75\" data-thumb=\"1\" href=\"https://vnexpress.net/chinh-quyen-kho-canh-tranh-nhan-luc-it-voi-doanh-nghiep-4816437.html\" title=\"'Chính quyền khó cạnh tranh nhân lực IT với doanh nghiệp'\">'Chính quyền khó cạnh tranh nhân lực IT với doanh nghiệp'</a>\n",
      "Title: 'Chính quyền khó cạnh tranh nhân lực IT với doanh nghiệp' - Link: https://vnexpress.net/chinh-quyen-kho-canh-tranh-nhan-luc-it-voi-doanh-nghiep-4816437.html\n",
      "<a data-medium=\"Item-76\" data-thumb=\"1\" href=\"https://vnexpress.net/chay-oto-4816432.html\" title=\"Ôtô cháy rụi bên đèo Con Ó\">Ôtô cháy rụi bên đèo Con Ó</a>\n",
      "Title: Ôtô cháy rụi bên đèo Con Ó - Link: https://vnexpress.net/chay-oto-4816432.html\n",
      "<a data-medium=\"Item-77\" data-thumb=\"1\" href=\"https://vnexpress.net/toa-thanh-tay-ninh-cong-trinh-tram-nam-cua-dao-cao-dai-4815774.html\" title=\"Tòa thánh Tây Ninh - công trình trăm năm của đạo Cao Đài\">Tòa thánh Tây Ninh - công trình trăm năm của đạo Cao Đài</a>\n",
      "Title: Tòa thánh Tây Ninh - công trình trăm năm của đạo Cao Đài - Link: https://vnexpress.net/toa-thanh-tay-ninh-cong-trinh-tram-nam-cua-dao-cao-dai-4815774.html\n"
     ]
    },
    {
     "ename": "LookupError",
     "evalue": "\n**********************************************************************\n  Resource \u001b[93mpunkt_tab\u001b[0m not found.\n  Please use the NLTK Downloader to obtain the resource:\n\n  \u001b[31m>>> import nltk\n  >>> nltk.download('punkt_tab')\n  \u001b[0m\n  For more information see: https://www.nltk.org/data.html\n\n  Attempted to load \u001b[93mtokenizers/punkt_tab/english/\u001b[0m\n\n  Searched in:\n    - '/home/nhdandz/nltk_data'\n    - '/home/nhdandz/miniconda3/envs/myenv/nltk_data'\n    - '/home/nhdandz/miniconda3/envs/myenv/share/nltk_data'\n    - '/home/nhdandz/miniconda3/envs/myenv/lib/nltk_data'\n    - '/usr/share/nltk_data'\n    - '/usr/local/share/nltk_data'\n    - '/usr/lib/nltk_data'\n    - '/usr/local/lib/nltk_data'\n**********************************************************************\n",
     "output_type": "error",
     "traceback": [
      "\u001b[0;31m---------------------------------------------------------------------------\u001b[0m",
      "\u001b[0;31mLookupError\u001b[0m                               Traceback (most recent call last)",
      "Cell \u001b[0;32mIn[159], line 1\u001b[0m\n\u001b[0;32m----> 1\u001b[0m \u001b[43mvnexpress\u001b[49m\u001b[43m(\u001b[49m\u001b[38;5;124;43m'\u001b[39;49m\u001b[38;5;124;43mhttp://vnexpress.net/thoi-su\u001b[39;49m\u001b[38;5;124;43m'\u001b[39;49m\u001b[43m)\u001b[49m\n",
      "Cell \u001b[0;32mIn[144], line 10\u001b[0m, in \u001b[0;36mvnexpress\u001b[0;34m(base_url)\u001b[0m\n\u001b[1;32m      8\u001b[0m title \u001b[38;5;241m=\u001b[39m arr[i][\u001b[38;5;241m0\u001b[39m]\n\u001b[1;32m      9\u001b[0m url \u001b[38;5;241m=\u001b[39m arr[i][\u001b[38;5;241m1\u001b[39m]\n\u001b[0;32m---> 10\u001b[0m \u001b[43mcrawl_by_url\u001b[49m\u001b[43m(\u001b[49m\u001b[43murl\u001b[49m\u001b[43m,\u001b[49m\u001b[43mtitle\u001b[49m\u001b[43m)\u001b[49m\n",
      "Cell \u001b[0;32mIn[157], line 6\u001b[0m, in \u001b[0;36mcrawl_by_url\u001b[0;34m(url, title)\u001b[0m\n\u001b[1;32m      4\u001b[0m article\u001b[38;5;241m.\u001b[39mparse()\n\u001b[1;32m      5\u001b[0m contents \u001b[38;5;241m=\u001b[39m \u001b[38;5;28mstr\u001b[39m(article\u001b[38;5;241m.\u001b[39mtext)\u001b[38;5;241m.\u001b[39mreplace(\u001b[38;5;124m\"\u001b[39m\u001b[38;5;130;01m\\n\u001b[39;00m\u001b[38;5;124m\"\u001b[39m,\u001b[38;5;124m\"\u001b[39m\u001b[38;5;124m\"\u001b[39m)\n\u001b[0;32m----> 6\u001b[0m \u001b[43marticle\u001b[49m\u001b[38;5;241;43m.\u001b[39;49m\u001b[43mnlp\u001b[49m\u001b[43m(\u001b[49m\u001b[43m)\u001b[49m\n\u001b[1;32m      7\u001b[0m \u001b[38;5;66;03m# replace\u001b[39;00m\n\u001b[1;32m      8\u001b[0m char_to_replace \u001b[38;5;241m=\u001b[39m {\u001b[38;5;124m'\u001b[39m\u001b[38;5;124m:\u001b[39m\u001b[38;5;124m'\u001b[39m: \u001b[38;5;124m'\u001b[39m\u001b[38;5;124m'\u001b[39m,\n\u001b[1;32m      9\u001b[0m                    \u001b[38;5;124m'\u001b[39m\u001b[38;5;124m/\u001b[39m\u001b[38;5;124m'\u001b[39m: \u001b[38;5;124m'\u001b[39m\u001b[38;5;124m'\u001b[39m,\n\u001b[1;32m     10\u001b[0m                    \u001b[38;5;124m'\u001b[39m\u001b[38;5;130;01m\\\\\u001b[39;00m\u001b[38;5;124m'\u001b[39m: \u001b[38;5;124m'\u001b[39m\u001b[38;5;124m'\u001b[39m,\n\u001b[0;32m   (...)\u001b[0m\n\u001b[1;32m     15\u001b[0m                   \u001b[38;5;124m'\u001b[39m\u001b[38;5;124m>\u001b[39m\u001b[38;5;124m'\u001b[39m: \u001b[38;5;124m'\u001b[39m\u001b[38;5;124m'\u001b[39m,\n\u001b[1;32m     16\u001b[0m                   \u001b[38;5;124m'\u001b[39m\u001b[38;5;124m|\u001b[39m\u001b[38;5;124m'\u001b[39m: \u001b[38;5;124m'\u001b[39m\u001b[38;5;124m'\u001b[39m}\n",
      "File \u001b[0;32m~/miniconda3/envs/myenv/lib/python3.9/site-packages/newspaper/article.py:361\u001b[0m, in \u001b[0;36mArticle.nlp\u001b[0;34m(self)\u001b[0m\n\u001b[1;32m    357\u001b[0m \u001b[38;5;28mself\u001b[39m\u001b[38;5;241m.\u001b[39mset_keywords(keyws)\n\u001b[1;32m    359\u001b[0m max_sents \u001b[38;5;241m=\u001b[39m \u001b[38;5;28mself\u001b[39m\u001b[38;5;241m.\u001b[39mconfig\u001b[38;5;241m.\u001b[39mMAX_SUMMARY_SENT\n\u001b[0;32m--> 361\u001b[0m summary_sents \u001b[38;5;241m=\u001b[39m \u001b[43mnlp\u001b[49m\u001b[38;5;241;43m.\u001b[39;49m\u001b[43msummarize\u001b[49m\u001b[43m(\u001b[49m\u001b[43mtitle\u001b[49m\u001b[38;5;241;43m=\u001b[39;49m\u001b[38;5;28;43mself\u001b[39;49m\u001b[38;5;241;43m.\u001b[39;49m\u001b[43mtitle\u001b[49m\u001b[43m,\u001b[49m\u001b[43m \u001b[49m\u001b[43mtext\u001b[49m\u001b[38;5;241;43m=\u001b[39;49m\u001b[38;5;28;43mself\u001b[39;49m\u001b[38;5;241;43m.\u001b[39;49m\u001b[43mtext\u001b[49m\u001b[43m,\u001b[49m\u001b[43m \u001b[49m\u001b[43mmax_sents\u001b[49m\u001b[38;5;241;43m=\u001b[39;49m\u001b[43mmax_sents\u001b[49m\u001b[43m)\u001b[49m\n\u001b[1;32m    362\u001b[0m summary \u001b[38;5;241m=\u001b[39m \u001b[38;5;124m'\u001b[39m\u001b[38;5;130;01m\\n\u001b[39;00m\u001b[38;5;124m'\u001b[39m\u001b[38;5;241m.\u001b[39mjoin(summary_sents)\n\u001b[1;32m    363\u001b[0m \u001b[38;5;28mself\u001b[39m\u001b[38;5;241m.\u001b[39mset_summary(summary)\n",
      "File \u001b[0;32m~/miniconda3/envs/myenv/lib/python3.9/site-packages/newspaper/nlp.py:45\u001b[0m, in \u001b[0;36msummarize\u001b[0;34m(url, title, text, max_sents)\u001b[0m\n\u001b[1;32m     42\u001b[0m     \u001b[38;5;28;01mreturn\u001b[39;00m []\n\u001b[1;32m     44\u001b[0m summaries \u001b[38;5;241m=\u001b[39m []\n\u001b[0;32m---> 45\u001b[0m sentences \u001b[38;5;241m=\u001b[39m \u001b[43msplit_sentences\u001b[49m\u001b[43m(\u001b[49m\u001b[43mtext\u001b[49m\u001b[43m)\u001b[49m\n\u001b[1;32m     46\u001b[0m keys \u001b[38;5;241m=\u001b[39m keywords(text)\n\u001b[1;32m     47\u001b[0m titleWords \u001b[38;5;241m=\u001b[39m split_words(title)\n",
      "File \u001b[0;32m~/miniconda3/envs/myenv/lib/python3.9/site-packages/newspaper/nlp.py:157\u001b[0m, in \u001b[0;36msplit_sentences\u001b[0;34m(text)\u001b[0m\n\u001b[1;32m    154\u001b[0m \u001b[38;5;250m\u001b[39m\u001b[38;5;124;03m\"\"\"Split a large string into sentences\u001b[39;00m\n\u001b[1;32m    155\u001b[0m \u001b[38;5;124;03m\"\"\"\u001b[39;00m\n\u001b[1;32m    156\u001b[0m \u001b[38;5;28;01mimport\u001b[39;00m \u001b[38;5;21;01mnltk\u001b[39;00m\u001b[38;5;21;01m.\u001b[39;00m\u001b[38;5;21;01mdata\u001b[39;00m\n\u001b[0;32m--> 157\u001b[0m tokenizer \u001b[38;5;241m=\u001b[39m \u001b[43mnltk\u001b[49m\u001b[38;5;241;43m.\u001b[39;49m\u001b[43mdata\u001b[49m\u001b[38;5;241;43m.\u001b[39;49m\u001b[43mload\u001b[49m\u001b[43m(\u001b[49m\u001b[38;5;124;43m'\u001b[39;49m\u001b[38;5;124;43mtokenizers/punkt/english.pickle\u001b[39;49m\u001b[38;5;124;43m'\u001b[39;49m\u001b[43m)\u001b[49m\n\u001b[1;32m    159\u001b[0m sentences \u001b[38;5;241m=\u001b[39m tokenizer\u001b[38;5;241m.\u001b[39mtokenize(text)\n\u001b[1;32m    160\u001b[0m sentences \u001b[38;5;241m=\u001b[39m [x\u001b[38;5;241m.\u001b[39mreplace(\u001b[38;5;124m'\u001b[39m\u001b[38;5;130;01m\\n\u001b[39;00m\u001b[38;5;124m'\u001b[39m, \u001b[38;5;124m'\u001b[39m\u001b[38;5;124m'\u001b[39m) \u001b[38;5;28;01mfor\u001b[39;00m x \u001b[38;5;129;01min\u001b[39;00m sentences \u001b[38;5;28;01mif\u001b[39;00m \u001b[38;5;28mlen\u001b[39m(x) \u001b[38;5;241m>\u001b[39m \u001b[38;5;241m10\u001b[39m]\n",
      "File \u001b[0;32m~/miniconda3/envs/myenv/lib/python3.9/site-packages/nltk/data.py:823\u001b[0m, in \u001b[0;36mload\u001b[0;34m(resource_url, format, cache, verbose, logic_parser, fstruct_reader, encoding)\u001b[0m\n\u001b[1;32m    821\u001b[0m fil \u001b[38;5;241m=\u001b[39m os\u001b[38;5;241m.\u001b[39mpath\u001b[38;5;241m.\u001b[39msplit(path_[:\u001b[38;5;241m-\u001b[39m\u001b[38;5;241m7\u001b[39m])[\u001b[38;5;241m-\u001b[39m\u001b[38;5;241m1\u001b[39m]\n\u001b[1;32m    822\u001b[0m \u001b[38;5;28;01mif\u001b[39;00m path_\u001b[38;5;241m.\u001b[39mstartswith(\u001b[38;5;124m\"\u001b[39m\u001b[38;5;124mtokenizers/punkt\u001b[39m\u001b[38;5;124m\"\u001b[39m):\n\u001b[0;32m--> 823\u001b[0m     \u001b[38;5;28;01mreturn\u001b[39;00m \u001b[43mswitch_punkt\u001b[49m\u001b[43m(\u001b[49m\u001b[43mfil\u001b[49m\u001b[43m)\u001b[49m\n\u001b[1;32m    824\u001b[0m \u001b[38;5;28;01melif\u001b[39;00m path_\u001b[38;5;241m.\u001b[39mstartswith(\u001b[38;5;124m\"\u001b[39m\u001b[38;5;124mchunkers/maxent_ne_chunker\u001b[39m\u001b[38;5;124m\"\u001b[39m):\n\u001b[1;32m    825\u001b[0m     \u001b[38;5;28;01mreturn\u001b[39;00m switch_chunker(fil\u001b[38;5;241m.\u001b[39msplit(\u001b[38;5;124m\"\u001b[39m\u001b[38;5;124m_\u001b[39m\u001b[38;5;124m\"\u001b[39m)[\u001b[38;5;241m-\u001b[39m\u001b[38;5;241m1\u001b[39m])\n",
      "File \u001b[0;32m~/miniconda3/envs/myenv/lib/python3.9/site-packages/nltk/data.py:678\u001b[0m, in \u001b[0;36mswitch_punkt\u001b[0;34m(lang)\u001b[0m\n\u001b[1;32m    668\u001b[0m \u001b[38;5;250m\u001b[39m\u001b[38;5;124;03m\"\"\"\u001b[39;00m\n\u001b[1;32m    669\u001b[0m \u001b[38;5;124;03mReturn a pickle-free Punkt tokenizer instead of loading a pickle.\u001b[39;00m\n\u001b[1;32m    670\u001b[0m \n\u001b[0;32m   (...)\u001b[0m\n\u001b[1;32m    674\u001b[0m \u001b[38;5;124;03m['Hello!', 'How are you?']\u001b[39;00m\n\u001b[1;32m    675\u001b[0m \u001b[38;5;124;03m\"\"\"\u001b[39;00m\n\u001b[1;32m    676\u001b[0m \u001b[38;5;28;01mfrom\u001b[39;00m \u001b[38;5;21;01mnltk\u001b[39;00m\u001b[38;5;21;01m.\u001b[39;00m\u001b[38;5;21;01mtokenize\u001b[39;00m \u001b[38;5;28;01mimport\u001b[39;00m PunktTokenizer \u001b[38;5;28;01mas\u001b[39;00m tok\n\u001b[0;32m--> 678\u001b[0m \u001b[38;5;28;01mreturn\u001b[39;00m \u001b[43mtok\u001b[49m\u001b[43m(\u001b[49m\u001b[43mlang\u001b[49m\u001b[43m)\u001b[49m\n",
      "File \u001b[0;32m~/miniconda3/envs/myenv/lib/python3.9/site-packages/nltk/tokenize/punkt.py:1744\u001b[0m, in \u001b[0;36mPunktTokenizer.__init__\u001b[0;34m(self, lang)\u001b[0m\n\u001b[1;32m   1742\u001b[0m \u001b[38;5;28;01mdef\u001b[39;00m \u001b[38;5;21m__init__\u001b[39m(\u001b[38;5;28mself\u001b[39m, lang\u001b[38;5;241m=\u001b[39m\u001b[38;5;124m\"\u001b[39m\u001b[38;5;124menglish\u001b[39m\u001b[38;5;124m\"\u001b[39m):\n\u001b[1;32m   1743\u001b[0m     PunktSentenceTokenizer\u001b[38;5;241m.\u001b[39m\u001b[38;5;21m__init__\u001b[39m(\u001b[38;5;28mself\u001b[39m)\n\u001b[0;32m-> 1744\u001b[0m     \u001b[38;5;28;43mself\u001b[39;49m\u001b[38;5;241;43m.\u001b[39;49m\u001b[43mload_lang\u001b[49m\u001b[43m(\u001b[49m\u001b[43mlang\u001b[49m\u001b[43m)\u001b[49m\n",
      "File \u001b[0;32m~/miniconda3/envs/myenv/lib/python3.9/site-packages/nltk/tokenize/punkt.py:1749\u001b[0m, in \u001b[0;36mPunktTokenizer.load_lang\u001b[0;34m(self, lang)\u001b[0m\n\u001b[1;32m   1746\u001b[0m \u001b[38;5;28;01mdef\u001b[39;00m \u001b[38;5;21mload_lang\u001b[39m(\u001b[38;5;28mself\u001b[39m, lang\u001b[38;5;241m=\u001b[39m\u001b[38;5;124m\"\u001b[39m\u001b[38;5;124menglish\u001b[39m\u001b[38;5;124m\"\u001b[39m):\n\u001b[1;32m   1747\u001b[0m     \u001b[38;5;28;01mfrom\u001b[39;00m \u001b[38;5;21;01mnltk\u001b[39;00m\u001b[38;5;21;01m.\u001b[39;00m\u001b[38;5;21;01mdata\u001b[39;00m \u001b[38;5;28;01mimport\u001b[39;00m find\n\u001b[0;32m-> 1749\u001b[0m     lang_dir \u001b[38;5;241m=\u001b[39m \u001b[43mfind\u001b[49m\u001b[43m(\u001b[49m\u001b[38;5;124;43mf\u001b[39;49m\u001b[38;5;124;43m\"\u001b[39;49m\u001b[38;5;124;43mtokenizers/punkt_tab/\u001b[39;49m\u001b[38;5;132;43;01m{\u001b[39;49;00m\u001b[43mlang\u001b[49m\u001b[38;5;132;43;01m}\u001b[39;49;00m\u001b[38;5;124;43m/\u001b[39;49m\u001b[38;5;124;43m\"\u001b[39;49m\u001b[43m)\u001b[49m\n\u001b[1;32m   1750\u001b[0m     \u001b[38;5;28mself\u001b[39m\u001b[38;5;241m.\u001b[39m_params \u001b[38;5;241m=\u001b[39m load_punkt_params(lang_dir)\n\u001b[1;32m   1751\u001b[0m     \u001b[38;5;28mself\u001b[39m\u001b[38;5;241m.\u001b[39m_lang \u001b[38;5;241m=\u001b[39m lang\n",
      "File \u001b[0;32m~/miniconda3/envs/myenv/lib/python3.9/site-packages/nltk/data.py:579\u001b[0m, in \u001b[0;36mfind\u001b[0;34m(resource_name, paths)\u001b[0m\n\u001b[1;32m    577\u001b[0m sep \u001b[38;5;241m=\u001b[39m \u001b[38;5;124m\"\u001b[39m\u001b[38;5;124m*\u001b[39m\u001b[38;5;124m\"\u001b[39m \u001b[38;5;241m*\u001b[39m \u001b[38;5;241m70\u001b[39m\n\u001b[1;32m    578\u001b[0m resource_not_found \u001b[38;5;241m=\u001b[39m \u001b[38;5;124mf\u001b[39m\u001b[38;5;124m\"\u001b[39m\u001b[38;5;130;01m\\n\u001b[39;00m\u001b[38;5;132;01m{\u001b[39;00msep\u001b[38;5;132;01m}\u001b[39;00m\u001b[38;5;130;01m\\n\u001b[39;00m\u001b[38;5;132;01m{\u001b[39;00mmsg\u001b[38;5;132;01m}\u001b[39;00m\u001b[38;5;130;01m\\n\u001b[39;00m\u001b[38;5;132;01m{\u001b[39;00msep\u001b[38;5;132;01m}\u001b[39;00m\u001b[38;5;130;01m\\n\u001b[39;00m\u001b[38;5;124m\"\u001b[39m\n\u001b[0;32m--> 579\u001b[0m \u001b[38;5;28;01mraise\u001b[39;00m \u001b[38;5;167;01mLookupError\u001b[39;00m(resource_not_found)\n",
      "\u001b[0;31mLookupError\u001b[0m: \n**********************************************************************\n  Resource \u001b[93mpunkt_tab\u001b[0m not found.\n  Please use the NLTK Downloader to obtain the resource:\n\n  \u001b[31m>>> import nltk\n  >>> nltk.download('punkt_tab')\n  \u001b[0m\n  For more information see: https://www.nltk.org/data.html\n\n  Attempted to load \u001b[93mtokenizers/punkt_tab/english/\u001b[0m\n\n  Searched in:\n    - '/home/nhdandz/nltk_data'\n    - '/home/nhdandz/miniconda3/envs/myenv/nltk_data'\n    - '/home/nhdandz/miniconda3/envs/myenv/share/nltk_data'\n    - '/home/nhdandz/miniconda3/envs/myenv/lib/nltk_data'\n    - '/usr/share/nltk_data'\n    - '/usr/local/share/nltk_data'\n    - '/usr/lib/nltk_data'\n    - '/usr/local/lib/nltk_data'\n**********************************************************************\n"
     ]
    }
   ],
   "source": [
    "vnexpress('http://vnexpress.net/thoi-su')"
   ]
  },
  {
   "cell_type": "code",
   "execution_count": 4,
   "metadata": {},
   "outputs": [],
   "source": [
    "# VNEXPRESS\n",
    "def get_page_urls_vnexpress(base_url, quantity):\n",
    "    news_per_page = 25\n",
    "    if quantity % news_per_page == 0:\n",
    "        no_of_pages = quantity // news_per_page\n",
    "    else:\n",
    "        no_of_pages = quantity // news_per_page + 1\n",
    "\n",
    "    extend_url = ['-p{}'.format(page) for page in range(2, no_of_pages + 1)]\n",
    "    url_list = [base_url + extend_part for extend_part in extend_url]\n",
    "    url_list.insert(0, base_url)\n",
    "    return url_list"
   ]
  },
  {
   "cell_type": "code",
   "execution_count": 135,
   "metadata": {},
   "outputs": [],
   "source": [
    "# THANHNIEN\n",
    "def get_links_in_page_thanhnien(url):\n",
    "    page = urllib.request.urlopen(url)\n",
    "    soup = BeautifulSoup(page, 'html.parser')\n",
    "    # <div>\n",
    "    div_all = soup.find_all('div', attrs={'class':'list__stream-flex'})\n",
    "    # div_all\n",
    "    # <h2>\n",
    "    h3_all = []\n",
    "    for div in div_all:\n",
    "        h3_all.extend(div.find_all('h3', attrs={'class':'box-title-text', 'data-vr-headline':\"\"})) \n",
    "    a_all = []\n",
    "    results = [[]]\n",
    "    for h3 in h3_all: \n",
    "        a_all.extend(h3.find_all('a', attrs={'class':'box-category-link-title'})) \n",
    "    for a in a_all:\n",
    "        title = a.get('title')\n",
    "        link = a.get('href')\n",
    "        print('Title: {} - Link: {}'.format(title, link))\n",
    "        results.append([title,link])\n",
    "    return results"
   ]
  },
  {
   "cell_type": "code",
   "execution_count": 139,
   "metadata": {},
   "outputs": [],
   "source": [
    "# THANHNIEN\n",
    "def get_page_urls_thanhnien(base_url, quantity):\n",
    "    news_per_page = 25\n",
    "    if quantity % news_per_page == 0:\n",
    "        no_of_pages = quantity // news_per_page\n",
    "    else:\n",
    "        no_of_pages = quantity // news_per_page + 1\n",
    "\n",
    "    extend_url = ['/trang-{}.html'.format(page) for page in range(2, no_of_pages + 1)]\n",
    "    url_list = [base_url + extend_part for extend_part in extend_url]\n",
    "    url_list.insert(0, base_url)\n",
    "    return url_list"
   ]
  },
  {
   "cell_type": "code",
   "execution_count": 152,
   "metadata": {},
   "outputs": [
    {
     "name": "stdout",
     "output_type": "stream",
     "text": [
      "Title: Xét xử đại án Xuyên Việt Oil: Tài khoản mấy trăm ngàn, báo cáo 219 tỉ đồng - Link: /xet-xu-dai-an-xuyen-viet-oil-tai-khoan-may-tram-ngan-bao-cao-219-ti-dong-185241120145559934.htm\n",
      "Title: TP.HCM khẩn trương điều chỉnh giá khám chữa bệnh theo mức lương cơ sở - Link: /tphcm-khan-truong-dieu-chinh-gia-kham-chua-benh-theo-muc-luong-co-so-185241120140214746.htm\n",
      "Title: Cần quy định để giáo viên được dạy thêm một cách 'chính danh' - Link: /can-quy-dinh-de-giao-vien-duoc-day-them-mot-cach-chinh-danh-185241120115038185.htm\n",
      "Title: Trao tặng 5 nhà đại đoàn kết cho bà con nghèo tại Quảng Trị - Link: /trao-tang-5-nha-dai-doan-ket-cho-ba-con-ngheo-tai-quang-tri-185241120100607579.htm\n",
      "Title: Thư ký Bí thư Tỉnh ủy làm Phó chánh văn phòng Tỉnh ủy Quảng Trị - Link: /thu-ky-bi-thu-tinh-uy-lam-pho-chanh-van-phong-tinh-uy-quang-tri-185241120121135943.htm\n",
      "Title: Bình Dương: Khởi tố bị can đăng thông tin xuyên tạc, xúc phạm lãnh đạo - Link: /binh-duong-khoi-to-bi-can-dang-thong-tin-xuyen-tac-xuc-pham-lanh-dao-185241120114702353.htm\n",
      "Title: Mâu thuẫn giao thông, đánh nhau gây náo loạn trên đường - Link: /mau-thuan-giao-thong-danh-nhau-gay-nao-loan-tren-duong-185241120124015454.htm\n",
      "Title: Một mỏ đất san lấp ở Quảng Nam được đấu giá tăng hơn 54 lần - Link: /mot-mo-dat-san-lap-o-quang-nam-duoc-dau-gia-tang-hon-54-lan-185241120121431542.htm\n",
      "Title: Xử phạt các đơn vị làm chậm tiến độ thi công Nhà hát tỉnh Bình thuận - Link: /xu-phat-cac-don-vi-lam-cham-tien-do-thi-cong-nha-hat-tinh-binh-thuan-185241120113829884.htm\n",
      "Title: Cựu trung úy công an dùng nhục hình làm chết người, lãnh án 13 năm tù - Link: /cuu-trung-uy-cong-an-dung-nhuc-hinh-lam-chet-nguoi-lanh-an-13-nam-tu-185241120102930421.htm\n",
      "Title: Phó giám đốc bán ô tô, tham ô hơn 2,1 tỉ đồng để đánh bạc - Link: /pho-giam-doc-ban-o-to-tham-o-hon-21-ti-dong-de-danh-bac-18524112012020469.htm\n",
      "Title: Đà Nẵng: Công an giúp người phụ nữ lấy lại 95 triệu đồng chuyển khoản nhầm - Link: /da-nang-cong-an-giup-nguoi-phu-nu-lay-lai-95-trieu-dong-chuyen-khoan-nham-185241120112531191.htm\n",
      "Title: Xe tải lao vào sạp rau, may mắn 1 người bị thương nhẹ - Link: /xe-tai-lao-vao-sap-rau-may-man-1-nguoi-bi-thuong-nhe-185241120111221593.htm\n",
      "Title: Nguyễn Thị Thanh Nhàn bị truy tố trong vụ án thứ 5, dù đang bỏ trốn - Link: /nguyen-thi-thanh-nhan-bi-truy-to-trong-vu-an-thu-5-du-dang-bo-tron-1852411201107167.htm\n",
      "Title: Chủ tịch Hà Nội: 'Nhìn đâu cũng thấy lãng phí' - Link: /chu-tich-ha-noi-nhin-dau-cung-thay-lang-phi-185241120102705278.htm\n",
      "Title: Mùa mưa ở miền Trung, miền Nam kết thúc muộn hơn bình thường - Link: /mua-mua-o-mien-trung-mien-nam-ket-thuc-muon-hon-binh-thuong-185241120103656785.htm\n",
      "Title: An Giang: Bắt Phó giám đốc Công ty Nam Hào Kiệt gây hậu quả nghiêm trọng - Link: /an-giang-bat-pho-giam-doc-cong-ty-nam-hao-kiet-gay-hau-qua-nghiem-trong-185241120081504295.htm\n",
      "Title: Xếp bậc lương giáo viên cao nhất: Cần thiết nhưng phải hài hòa với ngành khác - Link: /xep-bac-luong-giao-vien-cao-nhat-can-thiet-nhung-phai-hai-hoa-voi-nganh-khac-185241120094541512.htm\n",
      "Title: Khởi tố cán bộ địa chính xã ở Hà Giang gây thiệt hại tiền tỉ - Link: /khoi-to-can-bo-dia-chinh-xa-o-ha-giang-gay-thiet-hai-tien-ti-185241120095319187.htm\n",
      "Title: Đã tìm thấy 5 thi thể học sinh mất tích ở Phú Thọ - Link: /tim-thay-3-thi-the-nghi-la-nhung-hoc-sinh-mat-tich-o-phu-tho-185241120092936056.htm\n",
      "Title: Dấu mốc quan trọng thúc đẩy quan hệ VN - Armenia - Link: /dau-moc-quan-trong-thuc-day-quan-he-vn-armenia-185241119224442511.htm\n",
      "Title: Giăng bẫy lừa đảo 'du lịch Hàn Quốc' để chiếm đoạt tiền tỉ - Link: /giang-bay-lua-dao-du-lich-han-quoc-de-chiem-doat-tien-ti-185241120080650093.htm\n",
      "Title: Nguyễn Thị Thanh Nhàn bị truy tố trong vụ án thứ 5, dù đang bỏ trốn - Link: /nguyen-thi-thanh-nhan-bi-truy-to-trong-vu-an-thu-5-du-dang-bo-tron-1852411201107167.htm\n",
      "Title: Xét xử đại án Xuyên Việt Oil: Tài khoản mấy trăm ngàn, báo cáo 219 tỉ đồng - Link: /xet-xu-dai-an-xuyen-viet-oil-tai-khoan-may-tram-ngan-bao-cao-219-ti-dong-185241120145559934.htm\n",
      "Title: Bình Dương: Khởi tố bị can đăng thông tin xuyên tạc, xúc phạm lãnh đạo - Link: /binh-duong-khoi-to-bi-can-dang-thong-tin-xuyen-tac-xuc-pham-lanh-dao-185241120114702353.htm\n",
      "Title: TP.HCM khẩn trương điều chỉnh giá khám chữa bệnh theo mức lương cơ sở - Link: /tphcm-khan-truong-dieu-chinh-gia-kham-chua-benh-theo-muc-luong-co-so-185241120140214746.htm\n",
      "Title: Trao tặng 5 nhà đại đoàn kết cho bà con nghèo tại Quảng Trị - Link: /trao-tang-5-nha-dai-doan-ket-cho-ba-con-ngheo-tai-quang-tri-185241120100607579.htm\n",
      "Title: Mâu thuẫn giao thông, đánh nhau gây náo loạn trên đường - Link: /mau-thuan-giao-thong-danh-nhau-gay-nao-loan-tren-duong-185241120124015454.htm\n",
      "Title: Tiêu chuẩn nghề nghiệp mới: làm việc linh hoạt - Link: /tieu-chuan-nghe-nghiep-moi-lam-viec-linh-hoat-18524111623362329.htm\n",
      "Title: Mức trợ cấp tai nạn lao động khi tham gia bảo hiểm từ 1.1.2025 - Link: /muc-tro-cap-tai-nan-lao-dong-khi-tham-gia-bao-hiem-tu-112025-185241118115005002.htm\n",
      "Title: Nghịch lý thị trường lao động - Link: /nghich-ly-thi-truong-lao-dong-185241116235533719.htm\n",
      "Title: VssID có thay thế sổ BHXH giấy được không? - Link: /vssid-co-thay-the-so-bhxh-giay-duoc-khong-185241119170507882.htm\n",
      "Title: Mức trợ cấp tai nạn lao động khi tham gia bảo hiểm từ 1.1.2025 - Link: /muc-tro-cap-tai-nan-lao-dong-khi-tham-gia-bao-hiem-tu-112025-185241118115005002.htm\n",
      "Title: Tiêu chuẩn nghĩa vụ quân sự 2025, cần lưu ý gì? - Link: /tieu-chuan-nghia-vu-quan-su-2025-can-luu-y-gi-185241117185632055.htm\n",
      "Title: Nhà thơ Vũ Đình Liên, 'ông đồ' ăn cơm nắm, dịch thơ Baudelaire - Link: /nha-tho-vu-dinh-lien-ong-do-an-com-nam-dich-tho-baudelaire-185241027220655398.htm\n",
      "Title: Phố độc lạ ở TP.HCM: 'Thủ phủ' thuốc bắc lớn nhất khu Chợ Lớn - Link: /pho-doc-la-o-tphcm-thu-phu-thuoc-bac-lon-nhat-khu-cho-lon-185241117171701845.htm\n",
      "Title: Phố độc lạ ở TP.HCM: Trầu cau Chợ Lớn 'kết nghĩa trăm năm' đường Lê Quang Sung - Link: /pho-doc-la-o-tphcm-trau-cau-ket-nghia-tram-nam-duong-le-quang-sung-185241115194206832.htm\n",
      "Title: Triển lãm Quốc phòng quốc tế Việt Nam lần thứ 2 quy mô như thế nào? - Link: /trien-lam-quoc-phong-quoc-te-viet-nam-lan-thu-2-quy-mo-nhu-the-nao-185241119142755123.htm\n",
      "Title: Quân đội tìm kiếm máy bay YAK-130 như thế nào? - Link: /quan-doi-tim-kiem-may-bay-yak-130-nhu-the-nao-185241108062437288.htm\n",
      "Title: Đề xuất tăng tuổi nghỉ hưu sĩ quan quân đội từ 1 - 4 tuổi - Link: /de-xuat-tang-tuoi-nghi-huu-si-quan-quan-doi-tu-1-4-tuoi-18524102510424439.htm\n",
      "Title: Bị phạt 30 triệu đồng vì xúc phạm dân tộc trên mạng xã hội - Link: /bi-phat-30-trieu-dong-vi-xuc-pham-dan-toc-tren-mang-xa-hoi-185241109142404803.htm\n",
      "Title: Bắt nghi phạm lên mạng chửi bới lãnh đạo Đảng, Nhà nước - Link: /bat-nghi-pham-len-mang-chui-boi-lanh-dao-dang-nha-nuoc-185241104164540657.htm\n",
      "Title: Trung tâm Xử lý tin giả tỉnh Lâm Đồng nhận nhiều phản ánh của người dân - Link: /trung-tam-xu-ly-tin-gia-tinh-lam-dong-nhan-nhieu-phan-anh-cua-nguoi-dan-18524102715422523.htm\n"
     ]
    },
    {
     "ename": "ArticleException",
     "evalue": "Article `download()` failed with Invalid URL '/xet-xu-dai-an-xuyen-viet-oil-tai-khoan-may-tram-ngan-bao-cao-219-ti-dong-185241120145559934.htm': No scheme supplied. Perhaps you meant https:///xet-xu-dai-an-xuyen-viet-oil-tai-khoan-may-tram-ngan-bao-cao-219-ti-dong-185241120145559934.htm? on URL /xet-xu-dai-an-xuyen-viet-oil-tai-khoan-may-tram-ngan-bao-cao-219-ti-dong-185241120145559934.htm",
     "output_type": "error",
     "traceback": [
      "\u001b[0;31m---------------------------------------------------------------------------\u001b[0m",
      "\u001b[0;31mArticleException\u001b[0m                          Traceback (most recent call last)",
      "Cell \u001b[0;32mIn[152], line 1\u001b[0m\n\u001b[0;32m----> 1\u001b[0m \u001b[43mthanhnien\u001b[49m\u001b[43m(\u001b[49m\u001b[38;5;124;43m'\u001b[39;49m\u001b[38;5;124;43mhttp://thanhnien.vn/thoi-su\u001b[39;49m\u001b[38;5;124;43m'\u001b[39;49m\u001b[43m)\u001b[49m\n",
      "Cell \u001b[0;32mIn[151], line 8\u001b[0m, in \u001b[0;36mthanhnien\u001b[0;34m(base_url)\u001b[0m\n\u001b[1;32m      6\u001b[0m title \u001b[38;5;241m=\u001b[39m arr[i][\u001b[38;5;241m0\u001b[39m]\n\u001b[1;32m      7\u001b[0m url \u001b[38;5;241m=\u001b[39m arr[i][\u001b[38;5;241m1\u001b[39m]\n\u001b[0;32m----> 8\u001b[0m \u001b[43mcrawl_by_url\u001b[49m\u001b[43m(\u001b[49m\u001b[43murl\u001b[49m\u001b[43m,\u001b[49m\u001b[43mtitle\u001b[49m\u001b[43m)\u001b[49m\n",
      "Cell \u001b[0;32mIn[2], line 4\u001b[0m, in \u001b[0;36mcrawl_by_url\u001b[0;34m(url, title)\u001b[0m\n\u001b[1;32m      2\u001b[0m article \u001b[38;5;241m=\u001b[39m Article(url, language\u001b[38;5;241m=\u001b[39m\u001b[38;5;124m'\u001b[39m\u001b[38;5;124mvi\u001b[39m\u001b[38;5;124m'\u001b[39m)\n\u001b[1;32m      3\u001b[0m article\u001b[38;5;241m.\u001b[39mdownload()\n\u001b[0;32m----> 4\u001b[0m \u001b[43marticle\u001b[49m\u001b[38;5;241;43m.\u001b[39;49m\u001b[43mparse\u001b[49m\u001b[43m(\u001b[49m\u001b[43m)\u001b[49m\n\u001b[1;32m      5\u001b[0m contents \u001b[38;5;241m=\u001b[39m \u001b[38;5;28mstr\u001b[39m(article\u001b[38;5;241m.\u001b[39mtext)\u001b[38;5;241m.\u001b[39mreplace(\u001b[38;5;124m\"\u001b[39m\u001b[38;5;130;01m\\n\u001b[39;00m\u001b[38;5;124m\"\u001b[39m,\u001b[38;5;124m\"\u001b[39m\u001b[38;5;124m\"\u001b[39m)\n\u001b[1;32m      6\u001b[0m article\u001b[38;5;241m.\u001b[39mnlp()\n",
      "File \u001b[0;32m~/miniconda3/envs/myenv/lib/python3.9/site-packages/newspaper/article.py:191\u001b[0m, in \u001b[0;36mArticle.parse\u001b[0;34m(self)\u001b[0m\n\u001b[1;32m    190\u001b[0m \u001b[38;5;28;01mdef\u001b[39;00m \u001b[38;5;21mparse\u001b[39m(\u001b[38;5;28mself\u001b[39m):\n\u001b[0;32m--> 191\u001b[0m     \u001b[38;5;28;43mself\u001b[39;49m\u001b[38;5;241;43m.\u001b[39;49m\u001b[43mthrow_if_not_downloaded_verbose\u001b[49m\u001b[43m(\u001b[49m\u001b[43m)\u001b[49m\n\u001b[1;32m    193\u001b[0m     \u001b[38;5;28mself\u001b[39m\u001b[38;5;241m.\u001b[39mdoc \u001b[38;5;241m=\u001b[39m \u001b[38;5;28mself\u001b[39m\u001b[38;5;241m.\u001b[39mconfig\u001b[38;5;241m.\u001b[39mget_parser()\u001b[38;5;241m.\u001b[39mfromstring(\u001b[38;5;28mself\u001b[39m\u001b[38;5;241m.\u001b[39mhtml)\n\u001b[1;32m    194\u001b[0m     \u001b[38;5;28mself\u001b[39m\u001b[38;5;241m.\u001b[39mclean_doc \u001b[38;5;241m=\u001b[39m copy\u001b[38;5;241m.\u001b[39mdeepcopy(\u001b[38;5;28mself\u001b[39m\u001b[38;5;241m.\u001b[39mdoc)\n",
      "File \u001b[0;32m~/miniconda3/envs/myenv/lib/python3.9/site-packages/newspaper/article.py:531\u001b[0m, in \u001b[0;36mArticle.throw_if_not_downloaded_verbose\u001b[0;34m(self)\u001b[0m\n\u001b[1;32m    529\u001b[0m     \u001b[38;5;28;01mraise\u001b[39;00m ArticleException(\u001b[38;5;124m'\u001b[39m\u001b[38;5;124mYou must `download()` an article first!\u001b[39m\u001b[38;5;124m'\u001b[39m)\n\u001b[1;32m    530\u001b[0m \u001b[38;5;28;01melif\u001b[39;00m \u001b[38;5;28mself\u001b[39m\u001b[38;5;241m.\u001b[39mdownload_state \u001b[38;5;241m==\u001b[39m ArticleDownloadState\u001b[38;5;241m.\u001b[39mFAILED_RESPONSE:\n\u001b[0;32m--> 531\u001b[0m     \u001b[38;5;28;01mraise\u001b[39;00m ArticleException(\u001b[38;5;124m'\u001b[39m\u001b[38;5;124mArticle `download()` failed with \u001b[39m\u001b[38;5;132;01m%s\u001b[39;00m\u001b[38;5;124m on URL \u001b[39m\u001b[38;5;132;01m%s\u001b[39;00m\u001b[38;5;124m'\u001b[39m \u001b[38;5;241m%\u001b[39m\n\u001b[1;32m    532\u001b[0m           (\u001b[38;5;28mself\u001b[39m\u001b[38;5;241m.\u001b[39mdownload_exception_msg, \u001b[38;5;28mself\u001b[39m\u001b[38;5;241m.\u001b[39murl))\n",
      "\u001b[0;31mArticleException\u001b[0m: Article `download()` failed with Invalid URL '/xet-xu-dai-an-xuyen-viet-oil-tai-khoan-may-tram-ngan-bao-cao-219-ti-dong-185241120145559934.htm': No scheme supplied. Perhaps you meant https:///xet-xu-dai-an-xuyen-viet-oil-tai-khoan-may-tram-ngan-bao-cao-219-ti-dong-185241120145559934.htm? on URL /xet-xu-dai-an-xuyen-viet-oil-tai-khoan-may-tram-ngan-bao-cao-219-ti-dong-185241120145559934.htm"
     ]
    }
   ],
   "source": [
    "thanhnien('http://thanhnien.vn/thoi-su')"
   ]
  },
  {
   "cell_type": "code",
   "execution_count": 113,
   "metadata": {},
   "outputs": [],
   "source": [
    "#################################################"
   ]
  },
  {
   "cell_type": "code",
   "execution_count": 121,
   "metadata": {},
   "outputs": [],
   "source": [
    "# VIETNAMNET\n",
    "def get_links_in_page_vietnamnet(url):\n",
    "#     url = 'https://vietnamnet.vn/vn/thoi-su/trang5/'\n",
    "    page = urllib.request.urlopen(url)\n",
    "    soup = BeautifulSoup(page, 'html.parser')\n",
    "    # <div>\n",
    "    div_all = soup.find_all('div', attrs={'class':'list-content list-content-loadmore lagre m-t-20 clearfix'})\n",
    "    div_all\n",
    "\n",
    "    # <h3>\n",
    "    h3_all = []\n",
    "    for div in div_all:\n",
    "        h3_all.extend(div.find_all('h3', attrs={'class':'box-category-link-title'}))\n",
    "    #<a>\n",
    "    a_all = []\n",
    "    results = [[]] \n",
    "    a_all.extend(h3_all.find_all('a')) \n",
    "    return []\n",
    "    for a in a_all:\n",
    "        title = a.get('title')\n",
    "        link =  'https://vietnamnet.vn/vn/thoi-su'+ str(a.get('href'))\n",
    "        print('Title: {} - Link: {}'.format(title, link))\n",
    "        results.append([title,link])\n",
    "    return results"
   ]
  },
  {
   "cell_type": "code",
   "execution_count": 144,
   "metadata": {},
   "outputs": [],
   "source": [
    "def vnexpress(base_url):\n",
    "    page_urls = get_page_urls_vnexpress(base_url, quantity=40000)\n",
    "#     print(page_urls)\n",
    "    total_articles = 0\n",
    "    for page in page_urls:\n",
    "        arr = get_links_in_page_vnexpress(page)\n",
    "        for i in range(1,len(arr)-1):\n",
    "            title = arr[i][0]\n",
    "            url = arr[i][1]\n",
    "            crawl_by_url(url,title)\n",
    "# base_url = 'http://vnexpress.net/thoi-su' ## category = thoi-su"
   ]
  },
  {
   "cell_type": "code",
   "execution_count": 112,
   "metadata": {},
   "outputs": [],
   "source": [
    "# VIETNAMNET\n",
    "def get_page_urls_vietnamnet(base_url, quantity):\n",
    "    news_per_page = 25\n",
    "    if quantity % news_per_page == 0:\n",
    "        no_of_pages = quantity // news_per_page\n",
    "    else:\n",
    "        no_of_pages = quantity // news_per_page + 1\n",
    "\n",
    "    extend_url = [f'trang{page}/' for page in range(2, no_of_pages + 1)]\n",
    "    url_list = [base_url + extend_part for extend_part in extend_url]\n",
    "    url_list.insert(0, base_url)\n",
    "    return url_list"
   ]
  },
  {
   "cell_type": "code",
   "execution_count": 151,
   "metadata": {},
   "outputs": [],
   "source": [
    "def thanhnien(base_url):\n",
    "    page_urls = get_page_urls_thanhnien(base_url, quantity=10000)\n",
    " \n",
    "    arr = get_links_in_page_thanhnien(base_url)\n",
    "    for i in range(1,len(arr)-1):\n",
    "        title = arr[i][0]\n",
    "        url = arr[i][1]\n",
    "        crawl_by_url(url,title)\n",
    "# base_url = 'http://thanhnien.vn/thoi-su' ## category = thoi-su"
   ]
  },
  {
   "cell_type": "code",
   "execution_count": 77,
   "metadata": {},
   "outputs": [],
   "source": [
    "def vietnamnet(base_url):\n",
    "    page_urls = get_page_urls_vietnamnet(base_url, quantity=300)\n",
    "#     print(page_urls)\n",
    "    for page in page_urls:\n",
    "        arr = get_links_in_page_vietnamnet(page)\n",
    "        for i in range(1,len(arr)-1):\n",
    "            title = arr[i][0]\n",
    "            url = arr[i][1]\n",
    "            crawl_by_url(url,title)\n",
    "\n",
    "# base_url = 'https://vietnamnet.vn/vn/thoi-su/' ## category = thoi-su"
   ]
  },
  {
   "cell_type": "code",
   "execution_count": 146,
   "metadata": {},
   "outputs": [
    {
     "ename": "URLError",
     "evalue": "<urlopen error [Errno -3] Temporary failure in name resolution>",
     "output_type": "error",
     "traceback": [
      "\u001b[0;31m---------------------------------------------------------------------------\u001b[0m",
      "\u001b[0;31mgaierror\u001b[0m                                  Traceback (most recent call last)",
      "File \u001b[0;32m~/miniconda3/envs/myenv/lib/python3.9/urllib/request.py:1346\u001b[0m, in \u001b[0;36mAbstractHTTPHandler.do_open\u001b[0;34m(self, http_class, req, **http_conn_args)\u001b[0m\n\u001b[1;32m   1345\u001b[0m \u001b[38;5;28;01mtry\u001b[39;00m:\n\u001b[0;32m-> 1346\u001b[0m     \u001b[43mh\u001b[49m\u001b[38;5;241;43m.\u001b[39;49m\u001b[43mrequest\u001b[49m\u001b[43m(\u001b[49m\u001b[43mreq\u001b[49m\u001b[38;5;241;43m.\u001b[39;49m\u001b[43mget_method\u001b[49m\u001b[43m(\u001b[49m\u001b[43m)\u001b[49m\u001b[43m,\u001b[49m\u001b[43m \u001b[49m\u001b[43mreq\u001b[49m\u001b[38;5;241;43m.\u001b[39;49m\u001b[43mselector\u001b[49m\u001b[43m,\u001b[49m\u001b[43m \u001b[49m\u001b[43mreq\u001b[49m\u001b[38;5;241;43m.\u001b[39;49m\u001b[43mdata\u001b[49m\u001b[43m,\u001b[49m\u001b[43m \u001b[49m\u001b[43mheaders\u001b[49m\u001b[43m,\u001b[49m\n\u001b[1;32m   1347\u001b[0m \u001b[43m              \u001b[49m\u001b[43mencode_chunked\u001b[49m\u001b[38;5;241;43m=\u001b[39;49m\u001b[43mreq\u001b[49m\u001b[38;5;241;43m.\u001b[39;49m\u001b[43mhas_header\u001b[49m\u001b[43m(\u001b[49m\u001b[38;5;124;43m'\u001b[39;49m\u001b[38;5;124;43mTransfer-encoding\u001b[39;49m\u001b[38;5;124;43m'\u001b[39;49m\u001b[43m)\u001b[49m\u001b[43m)\u001b[49m\n\u001b[1;32m   1348\u001b[0m \u001b[38;5;28;01mexcept\u001b[39;00m \u001b[38;5;167;01mOSError\u001b[39;00m \u001b[38;5;28;01mas\u001b[39;00m err: \u001b[38;5;66;03m# timeout error\u001b[39;00m\n",
      "File \u001b[0;32m~/miniconda3/envs/myenv/lib/python3.9/http/client.py:1285\u001b[0m, in \u001b[0;36mHTTPConnection.request\u001b[0;34m(self, method, url, body, headers, encode_chunked)\u001b[0m\n\u001b[1;32m   1284\u001b[0m \u001b[38;5;250m\u001b[39m\u001b[38;5;124;03m\"\"\"Send a complete request to the server.\"\"\"\u001b[39;00m\n\u001b[0;32m-> 1285\u001b[0m \u001b[38;5;28;43mself\u001b[39;49m\u001b[38;5;241;43m.\u001b[39;49m\u001b[43m_send_request\u001b[49m\u001b[43m(\u001b[49m\u001b[43mmethod\u001b[49m\u001b[43m,\u001b[49m\u001b[43m \u001b[49m\u001b[43murl\u001b[49m\u001b[43m,\u001b[49m\u001b[43m \u001b[49m\u001b[43mbody\u001b[49m\u001b[43m,\u001b[49m\u001b[43m \u001b[49m\u001b[43mheaders\u001b[49m\u001b[43m,\u001b[49m\u001b[43m \u001b[49m\u001b[43mencode_chunked\u001b[49m\u001b[43m)\u001b[49m\n",
      "File \u001b[0;32m~/miniconda3/envs/myenv/lib/python3.9/http/client.py:1331\u001b[0m, in \u001b[0;36mHTTPConnection._send_request\u001b[0;34m(self, method, url, body, headers, encode_chunked)\u001b[0m\n\u001b[1;32m   1330\u001b[0m     body \u001b[38;5;241m=\u001b[39m _encode(body, \u001b[38;5;124m'\u001b[39m\u001b[38;5;124mbody\u001b[39m\u001b[38;5;124m'\u001b[39m)\n\u001b[0;32m-> 1331\u001b[0m \u001b[38;5;28;43mself\u001b[39;49m\u001b[38;5;241;43m.\u001b[39;49m\u001b[43mendheaders\u001b[49m\u001b[43m(\u001b[49m\u001b[43mbody\u001b[49m\u001b[43m,\u001b[49m\u001b[43m \u001b[49m\u001b[43mencode_chunked\u001b[49m\u001b[38;5;241;43m=\u001b[39;49m\u001b[43mencode_chunked\u001b[49m\u001b[43m)\u001b[49m\n",
      "File \u001b[0;32m~/miniconda3/envs/myenv/lib/python3.9/http/client.py:1280\u001b[0m, in \u001b[0;36mHTTPConnection.endheaders\u001b[0;34m(self, message_body, encode_chunked)\u001b[0m\n\u001b[1;32m   1279\u001b[0m     \u001b[38;5;28;01mraise\u001b[39;00m CannotSendHeader()\n\u001b[0;32m-> 1280\u001b[0m \u001b[38;5;28;43mself\u001b[39;49m\u001b[38;5;241;43m.\u001b[39;49m\u001b[43m_send_output\u001b[49m\u001b[43m(\u001b[49m\u001b[43mmessage_body\u001b[49m\u001b[43m,\u001b[49m\u001b[43m \u001b[49m\u001b[43mencode_chunked\u001b[49m\u001b[38;5;241;43m=\u001b[39;49m\u001b[43mencode_chunked\u001b[49m\u001b[43m)\u001b[49m\n",
      "File \u001b[0;32m~/miniconda3/envs/myenv/lib/python3.9/http/client.py:1040\u001b[0m, in \u001b[0;36mHTTPConnection._send_output\u001b[0;34m(self, message_body, encode_chunked)\u001b[0m\n\u001b[1;32m   1039\u001b[0m \u001b[38;5;28;01mdel\u001b[39;00m \u001b[38;5;28mself\u001b[39m\u001b[38;5;241m.\u001b[39m_buffer[:]\n\u001b[0;32m-> 1040\u001b[0m \u001b[38;5;28;43mself\u001b[39;49m\u001b[38;5;241;43m.\u001b[39;49m\u001b[43msend\u001b[49m\u001b[43m(\u001b[49m\u001b[43mmsg\u001b[49m\u001b[43m)\u001b[49m\n\u001b[1;32m   1042\u001b[0m \u001b[38;5;28;01mif\u001b[39;00m message_body \u001b[38;5;129;01mis\u001b[39;00m \u001b[38;5;129;01mnot\u001b[39;00m \u001b[38;5;28;01mNone\u001b[39;00m:\n\u001b[1;32m   1043\u001b[0m \n\u001b[1;32m   1044\u001b[0m     \u001b[38;5;66;03m# create a consistent interface to message_body\u001b[39;00m\n",
      "File \u001b[0;32m~/miniconda3/envs/myenv/lib/python3.9/http/client.py:980\u001b[0m, in \u001b[0;36mHTTPConnection.send\u001b[0;34m(self, data)\u001b[0m\n\u001b[1;32m    979\u001b[0m \u001b[38;5;28;01mif\u001b[39;00m \u001b[38;5;28mself\u001b[39m\u001b[38;5;241m.\u001b[39mauto_open:\n\u001b[0;32m--> 980\u001b[0m     \u001b[38;5;28;43mself\u001b[39;49m\u001b[38;5;241;43m.\u001b[39;49m\u001b[43mconnect\u001b[49m\u001b[43m(\u001b[49m\u001b[43m)\u001b[49m\n\u001b[1;32m    981\u001b[0m \u001b[38;5;28;01melse\u001b[39;00m:\n",
      "File \u001b[0;32m~/miniconda3/envs/myenv/lib/python3.9/http/client.py:1447\u001b[0m, in \u001b[0;36mHTTPSConnection.connect\u001b[0;34m(self)\u001b[0m\n\u001b[1;32m   1445\u001b[0m \u001b[38;5;124m\"\u001b[39m\u001b[38;5;124mConnect to a host on a given (SSL) port.\u001b[39m\u001b[38;5;124m\"\u001b[39m\n\u001b[0;32m-> 1447\u001b[0m \u001b[38;5;28;43msuper\u001b[39;49m\u001b[43m(\u001b[49m\u001b[43m)\u001b[49m\u001b[38;5;241;43m.\u001b[39;49m\u001b[43mconnect\u001b[49m\u001b[43m(\u001b[49m\u001b[43m)\u001b[49m\n\u001b[1;32m   1449\u001b[0m \u001b[38;5;28;01mif\u001b[39;00m \u001b[38;5;28mself\u001b[39m\u001b[38;5;241m.\u001b[39m_tunnel_host:\n",
      "File \u001b[0;32m~/miniconda3/envs/myenv/lib/python3.9/http/client.py:946\u001b[0m, in \u001b[0;36mHTTPConnection.connect\u001b[0;34m(self)\u001b[0m\n\u001b[1;32m    945\u001b[0m \u001b[38;5;250m\u001b[39m\u001b[38;5;124;03m\"\"\"Connect to the host and port specified in __init__.\"\"\"\u001b[39;00m\n\u001b[0;32m--> 946\u001b[0m \u001b[38;5;28mself\u001b[39m\u001b[38;5;241m.\u001b[39msock \u001b[38;5;241m=\u001b[39m \u001b[38;5;28;43mself\u001b[39;49m\u001b[38;5;241;43m.\u001b[39;49m\u001b[43m_create_connection\u001b[49m\u001b[43m(\u001b[49m\n\u001b[1;32m    947\u001b[0m \u001b[43m    \u001b[49m\u001b[43m(\u001b[49m\u001b[38;5;28;43mself\u001b[39;49m\u001b[38;5;241;43m.\u001b[39;49m\u001b[43mhost\u001b[49m\u001b[43m,\u001b[49m\u001b[38;5;28;43mself\u001b[39;49m\u001b[38;5;241;43m.\u001b[39;49m\u001b[43mport\u001b[49m\u001b[43m)\u001b[49m\u001b[43m,\u001b[49m\u001b[43m \u001b[49m\u001b[38;5;28;43mself\u001b[39;49m\u001b[38;5;241;43m.\u001b[39;49m\u001b[43mtimeout\u001b[49m\u001b[43m,\u001b[49m\u001b[43m \u001b[49m\u001b[38;5;28;43mself\u001b[39;49m\u001b[38;5;241;43m.\u001b[39;49m\u001b[43msource_address\u001b[49m\u001b[43m)\u001b[49m\n\u001b[1;32m    948\u001b[0m \u001b[38;5;66;03m# Might fail in OSs that don't implement TCP_NODELAY\u001b[39;00m\n",
      "File \u001b[0;32m~/miniconda3/envs/myenv/lib/python3.9/socket.py:835\u001b[0m, in \u001b[0;36mcreate_connection\u001b[0;34m(address, timeout, source_address)\u001b[0m\n\u001b[1;32m    834\u001b[0m err \u001b[38;5;241m=\u001b[39m \u001b[38;5;28;01mNone\u001b[39;00m\n\u001b[0;32m--> 835\u001b[0m \u001b[38;5;28;01mfor\u001b[39;00m res \u001b[38;5;129;01min\u001b[39;00m \u001b[43mgetaddrinfo\u001b[49m\u001b[43m(\u001b[49m\u001b[43mhost\u001b[49m\u001b[43m,\u001b[49m\u001b[43m \u001b[49m\u001b[43mport\u001b[49m\u001b[43m,\u001b[49m\u001b[43m \u001b[49m\u001b[38;5;241;43m0\u001b[39;49m\u001b[43m,\u001b[49m\u001b[43m \u001b[49m\u001b[43mSOCK_STREAM\u001b[49m\u001b[43m)\u001b[49m:\n\u001b[1;32m    836\u001b[0m     af, socktype, proto, canonname, sa \u001b[38;5;241m=\u001b[39m res\n",
      "File \u001b[0;32m~/miniconda3/envs/myenv/lib/python3.9/socket.py:966\u001b[0m, in \u001b[0;36mgetaddrinfo\u001b[0;34m(host, port, family, type, proto, flags)\u001b[0m\n\u001b[1;32m    965\u001b[0m addrlist \u001b[38;5;241m=\u001b[39m []\n\u001b[0;32m--> 966\u001b[0m \u001b[38;5;28;01mfor\u001b[39;00m res \u001b[38;5;129;01min\u001b[39;00m \u001b[43m_socket\u001b[49m\u001b[38;5;241;43m.\u001b[39;49m\u001b[43mgetaddrinfo\u001b[49m\u001b[43m(\u001b[49m\u001b[43mhost\u001b[49m\u001b[43m,\u001b[49m\u001b[43m \u001b[49m\u001b[43mport\u001b[49m\u001b[43m,\u001b[49m\u001b[43m \u001b[49m\u001b[43mfamily\u001b[49m\u001b[43m,\u001b[49m\u001b[43m \u001b[49m\u001b[38;5;28;43mtype\u001b[39;49m\u001b[43m,\u001b[49m\u001b[43m \u001b[49m\u001b[43mproto\u001b[49m\u001b[43m,\u001b[49m\u001b[43m \u001b[49m\u001b[43mflags\u001b[49m\u001b[43m)\u001b[49m:\n\u001b[1;32m    967\u001b[0m     af, socktype, proto, canonname, sa \u001b[38;5;241m=\u001b[39m res\n",
      "\u001b[0;31mgaierror\u001b[0m: [Errno -3] Temporary failure in name resolution",
      "\nDuring handling of the above exception, another exception occurred:\n",
      "\u001b[0;31mURLError\u001b[0m                                  Traceback (most recent call last)",
      "Cell \u001b[0;32mIn[146], line 1\u001b[0m\n\u001b[0;32m----> 1\u001b[0m \u001b[43mvietnamnet\u001b[49m\u001b[43m(\u001b[49m\u001b[38;5;124;43m'\u001b[39;49m\u001b[38;5;124;43mhttps://vietnamnet.vn/vn/thoi-su/\u001b[39;49m\u001b[38;5;124;43m'\u001b[39;49m\u001b[43m)\u001b[49m\n",
      "Cell \u001b[0;32mIn[77], line 5\u001b[0m, in \u001b[0;36mvietnamnet\u001b[0;34m(base_url)\u001b[0m\n\u001b[1;32m      3\u001b[0m \u001b[38;5;66;03m#     print(page_urls)\u001b[39;00m\n\u001b[1;32m      4\u001b[0m     \u001b[38;5;28;01mfor\u001b[39;00m page \u001b[38;5;129;01min\u001b[39;00m page_urls:\n\u001b[0;32m----> 5\u001b[0m         arr \u001b[38;5;241m=\u001b[39m \u001b[43mget_links_in_page_vietnamnet\u001b[49m\u001b[43m(\u001b[49m\u001b[43mpage\u001b[49m\u001b[43m)\u001b[49m\n\u001b[1;32m      6\u001b[0m         \u001b[38;5;28;01mfor\u001b[39;00m i \u001b[38;5;129;01min\u001b[39;00m \u001b[38;5;28mrange\u001b[39m(\u001b[38;5;241m1\u001b[39m,\u001b[38;5;28mlen\u001b[39m(arr)\u001b[38;5;241m-\u001b[39m\u001b[38;5;241m1\u001b[39m):\n\u001b[1;32m      7\u001b[0m             title \u001b[38;5;241m=\u001b[39m arr[i][\u001b[38;5;241m0\u001b[39m]\n",
      "Cell \u001b[0;32mIn[121], line 4\u001b[0m, in \u001b[0;36mget_links_in_page_vietnamnet\u001b[0;34m(url)\u001b[0m\n\u001b[1;32m      2\u001b[0m \u001b[38;5;28;01mdef\u001b[39;00m \u001b[38;5;21mget_links_in_page_vietnamnet\u001b[39m(url):\n\u001b[1;32m      3\u001b[0m \u001b[38;5;66;03m#     url = 'https://vietnamnet.vn/vn/thoi-su/trang5/'\u001b[39;00m\n\u001b[0;32m----> 4\u001b[0m     page \u001b[38;5;241m=\u001b[39m \u001b[43murllib\u001b[49m\u001b[38;5;241;43m.\u001b[39;49m\u001b[43mrequest\u001b[49m\u001b[38;5;241;43m.\u001b[39;49m\u001b[43murlopen\u001b[49m\u001b[43m(\u001b[49m\u001b[43murl\u001b[49m\u001b[43m)\u001b[49m\n\u001b[1;32m      5\u001b[0m     soup \u001b[38;5;241m=\u001b[39m BeautifulSoup(page, \u001b[38;5;124m'\u001b[39m\u001b[38;5;124mhtml.parser\u001b[39m\u001b[38;5;124m'\u001b[39m)\n\u001b[1;32m      6\u001b[0m     \u001b[38;5;66;03m# <div>\u001b[39;00m\n",
      "File \u001b[0;32m~/miniconda3/envs/myenv/lib/python3.9/urllib/request.py:214\u001b[0m, in \u001b[0;36murlopen\u001b[0;34m(url, data, timeout, cafile, capath, cadefault, context)\u001b[0m\n\u001b[1;32m    212\u001b[0m \u001b[38;5;28;01melse\u001b[39;00m:\n\u001b[1;32m    213\u001b[0m     opener \u001b[38;5;241m=\u001b[39m _opener\n\u001b[0;32m--> 214\u001b[0m \u001b[38;5;28;01mreturn\u001b[39;00m \u001b[43mopener\u001b[49m\u001b[38;5;241;43m.\u001b[39;49m\u001b[43mopen\u001b[49m\u001b[43m(\u001b[49m\u001b[43murl\u001b[49m\u001b[43m,\u001b[49m\u001b[43m \u001b[49m\u001b[43mdata\u001b[49m\u001b[43m,\u001b[49m\u001b[43m \u001b[49m\u001b[43mtimeout\u001b[49m\u001b[43m)\u001b[49m\n",
      "File \u001b[0;32m~/miniconda3/envs/myenv/lib/python3.9/urllib/request.py:517\u001b[0m, in \u001b[0;36mOpenerDirector.open\u001b[0;34m(self, fullurl, data, timeout)\u001b[0m\n\u001b[1;32m    514\u001b[0m     req \u001b[38;5;241m=\u001b[39m meth(req)\n\u001b[1;32m    516\u001b[0m sys\u001b[38;5;241m.\u001b[39maudit(\u001b[38;5;124m'\u001b[39m\u001b[38;5;124murllib.Request\u001b[39m\u001b[38;5;124m'\u001b[39m, req\u001b[38;5;241m.\u001b[39mfull_url, req\u001b[38;5;241m.\u001b[39mdata, req\u001b[38;5;241m.\u001b[39mheaders, req\u001b[38;5;241m.\u001b[39mget_method())\n\u001b[0;32m--> 517\u001b[0m response \u001b[38;5;241m=\u001b[39m \u001b[38;5;28;43mself\u001b[39;49m\u001b[38;5;241;43m.\u001b[39;49m\u001b[43m_open\u001b[49m\u001b[43m(\u001b[49m\u001b[43mreq\u001b[49m\u001b[43m,\u001b[49m\u001b[43m \u001b[49m\u001b[43mdata\u001b[49m\u001b[43m)\u001b[49m\n\u001b[1;32m    519\u001b[0m \u001b[38;5;66;03m# post-process response\u001b[39;00m\n\u001b[1;32m    520\u001b[0m meth_name \u001b[38;5;241m=\u001b[39m protocol\u001b[38;5;241m+\u001b[39m\u001b[38;5;124m\"\u001b[39m\u001b[38;5;124m_response\u001b[39m\u001b[38;5;124m\"\u001b[39m\n",
      "File \u001b[0;32m~/miniconda3/envs/myenv/lib/python3.9/urllib/request.py:534\u001b[0m, in \u001b[0;36mOpenerDirector._open\u001b[0;34m(self, req, data)\u001b[0m\n\u001b[1;32m    531\u001b[0m     \u001b[38;5;28;01mreturn\u001b[39;00m result\n\u001b[1;32m    533\u001b[0m protocol \u001b[38;5;241m=\u001b[39m req\u001b[38;5;241m.\u001b[39mtype\n\u001b[0;32m--> 534\u001b[0m result \u001b[38;5;241m=\u001b[39m \u001b[38;5;28;43mself\u001b[39;49m\u001b[38;5;241;43m.\u001b[39;49m\u001b[43m_call_chain\u001b[49m\u001b[43m(\u001b[49m\u001b[38;5;28;43mself\u001b[39;49m\u001b[38;5;241;43m.\u001b[39;49m\u001b[43mhandle_open\u001b[49m\u001b[43m,\u001b[49m\u001b[43m \u001b[49m\u001b[43mprotocol\u001b[49m\u001b[43m,\u001b[49m\u001b[43m \u001b[49m\u001b[43mprotocol\u001b[49m\u001b[43m \u001b[49m\u001b[38;5;241;43m+\u001b[39;49m\n\u001b[1;32m    535\u001b[0m \u001b[43m                          \u001b[49m\u001b[38;5;124;43m'\u001b[39;49m\u001b[38;5;124;43m_open\u001b[39;49m\u001b[38;5;124;43m'\u001b[39;49m\u001b[43m,\u001b[49m\u001b[43m \u001b[49m\u001b[43mreq\u001b[49m\u001b[43m)\u001b[49m\n\u001b[1;32m    536\u001b[0m \u001b[38;5;28;01mif\u001b[39;00m result:\n\u001b[1;32m    537\u001b[0m     \u001b[38;5;28;01mreturn\u001b[39;00m result\n",
      "File \u001b[0;32m~/miniconda3/envs/myenv/lib/python3.9/urllib/request.py:494\u001b[0m, in \u001b[0;36mOpenerDirector._call_chain\u001b[0;34m(self, chain, kind, meth_name, *args)\u001b[0m\n\u001b[1;32m    492\u001b[0m \u001b[38;5;28;01mfor\u001b[39;00m handler \u001b[38;5;129;01min\u001b[39;00m handlers:\n\u001b[1;32m    493\u001b[0m     func \u001b[38;5;241m=\u001b[39m \u001b[38;5;28mgetattr\u001b[39m(handler, meth_name)\n\u001b[0;32m--> 494\u001b[0m     result \u001b[38;5;241m=\u001b[39m \u001b[43mfunc\u001b[49m\u001b[43m(\u001b[49m\u001b[38;5;241;43m*\u001b[39;49m\u001b[43margs\u001b[49m\u001b[43m)\u001b[49m\n\u001b[1;32m    495\u001b[0m     \u001b[38;5;28;01mif\u001b[39;00m result \u001b[38;5;129;01mis\u001b[39;00m \u001b[38;5;129;01mnot\u001b[39;00m \u001b[38;5;28;01mNone\u001b[39;00m:\n\u001b[1;32m    496\u001b[0m         \u001b[38;5;28;01mreturn\u001b[39;00m result\n",
      "File \u001b[0;32m~/miniconda3/envs/myenv/lib/python3.9/urllib/request.py:1389\u001b[0m, in \u001b[0;36mHTTPSHandler.https_open\u001b[0;34m(self, req)\u001b[0m\n\u001b[1;32m   1388\u001b[0m \u001b[38;5;28;01mdef\u001b[39;00m \u001b[38;5;21mhttps_open\u001b[39m(\u001b[38;5;28mself\u001b[39m, req):\n\u001b[0;32m-> 1389\u001b[0m     \u001b[38;5;28;01mreturn\u001b[39;00m \u001b[38;5;28;43mself\u001b[39;49m\u001b[38;5;241;43m.\u001b[39;49m\u001b[43mdo_open\u001b[49m\u001b[43m(\u001b[49m\u001b[43mhttp\u001b[49m\u001b[38;5;241;43m.\u001b[39;49m\u001b[43mclient\u001b[49m\u001b[38;5;241;43m.\u001b[39;49m\u001b[43mHTTPSConnection\u001b[49m\u001b[43m,\u001b[49m\u001b[43m \u001b[49m\u001b[43mreq\u001b[49m\u001b[43m,\u001b[49m\n\u001b[1;32m   1390\u001b[0m \u001b[43m        \u001b[49m\u001b[43mcontext\u001b[49m\u001b[38;5;241;43m=\u001b[39;49m\u001b[38;5;28;43mself\u001b[39;49m\u001b[38;5;241;43m.\u001b[39;49m\u001b[43m_context\u001b[49m\u001b[43m,\u001b[49m\u001b[43m \u001b[49m\u001b[43mcheck_hostname\u001b[49m\u001b[38;5;241;43m=\u001b[39;49m\u001b[38;5;28;43mself\u001b[39;49m\u001b[38;5;241;43m.\u001b[39;49m\u001b[43m_check_hostname\u001b[49m\u001b[43m)\u001b[49m\n",
      "File \u001b[0;32m~/miniconda3/envs/myenv/lib/python3.9/urllib/request.py:1349\u001b[0m, in \u001b[0;36mAbstractHTTPHandler.do_open\u001b[0;34m(self, http_class, req, **http_conn_args)\u001b[0m\n\u001b[1;32m   1346\u001b[0m         h\u001b[38;5;241m.\u001b[39mrequest(req\u001b[38;5;241m.\u001b[39mget_method(), req\u001b[38;5;241m.\u001b[39mselector, req\u001b[38;5;241m.\u001b[39mdata, headers,\n\u001b[1;32m   1347\u001b[0m                   encode_chunked\u001b[38;5;241m=\u001b[39mreq\u001b[38;5;241m.\u001b[39mhas_header(\u001b[38;5;124m'\u001b[39m\u001b[38;5;124mTransfer-encoding\u001b[39m\u001b[38;5;124m'\u001b[39m))\n\u001b[1;32m   1348\u001b[0m     \u001b[38;5;28;01mexcept\u001b[39;00m \u001b[38;5;167;01mOSError\u001b[39;00m \u001b[38;5;28;01mas\u001b[39;00m err: \u001b[38;5;66;03m# timeout error\u001b[39;00m\n\u001b[0;32m-> 1349\u001b[0m         \u001b[38;5;28;01mraise\u001b[39;00m URLError(err)\n\u001b[1;32m   1350\u001b[0m     r \u001b[38;5;241m=\u001b[39m h\u001b[38;5;241m.\u001b[39mgetresponse()\n\u001b[1;32m   1351\u001b[0m \u001b[38;5;28;01mexcept\u001b[39;00m:\n",
      "\u001b[0;31mURLError\u001b[0m: <urlopen error [Errno -3] Temporary failure in name resolution>"
     ]
    }
   ],
   "source": [
    "vietnamnet('https://vietnamnet.vn/vn/thoi-su/')"
   ]
  },
  {
   "cell_type": "code",
   "execution_count": null,
   "metadata": {},
   "outputs": [],
   "source": []
  },
  {
   "cell_type": "code",
   "execution_count": null,
   "metadata": {},
   "outputs": [],
   "source": []
  },
  {
   "cell_type": "code",
   "execution_count": null,
   "metadata": {},
   "outputs": [],
   "source": []
  },
  {
   "cell_type": "code",
   "execution_count": null,
   "metadata": {},
   "outputs": [],
   "source": []
  }
 ],
 "metadata": {
  "kernelspec": {
   "display_name": "Python 3 (ipykernel)",
   "language": "python",
   "name": "python3"
  },
  "language_info": {
   "codemirror_mode": {
    "name": "ipython",
    "version": 3
   },
   "file_extension": ".py",
   "mimetype": "text/x-python",
   "name": "python",
   "nbconvert_exporter": "python",
   "pygments_lexer": "ipython3",
   "version": "3.9.20"
  }
 },
 "nbformat": 4,
 "nbformat_minor": 4
}
